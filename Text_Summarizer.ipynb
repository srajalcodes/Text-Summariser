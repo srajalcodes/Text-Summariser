{
  "nbformat": 4,
  "nbformat_minor": 0,
  "metadata": {
    "colab": {
      "provenance": [],
      "authorship_tag": "ABX9TyPXAyhuf22MnhqkmykB+3lT"
    },
    "kernelspec": {
      "name": "python3",
      "display_name": "Python 3"
    },
    "language_info": {
      "name": "python"
    }
  },
  "cells": [
    {
      "cell_type": "markdown",
      "metadata": {
        "id": "oyEbUenZTH2g"
      },
      "source": [
        "**TEXT SUMMARIZER**"
      ]
    },
    {
      "cell_type": "code",
      "metadata": {
        "id": "bnWSzFrKYD4r"
      },
      "source": [
        "text = \"\"\"\n",
        "So far we have been proceeding as if we have a firm and precise grasp of the nature of AI. But what exactly is AI? Philosophers arguably know better than anyone that precisely defining a particular discipline to the satisfaction of all relevant parties (including those working in the discipline itself) can be acutely challenging. Philosophers of science certainly have proposed credible accounts of what constitutes at least the general shape and texture of a given field of science and/or engineering, but what exactly is the agreed-upon definition of physics? What about biology? What, for that matter, is philosophy, exactly? These are remarkably difficult, maybe even eternally unanswerable, questions, especially if the target is a consensus definition. Perhaps the most prudent course we can manage here under obvious space constraints is to present in encapsulated form some proposed definitions of AI. We do include a glimpse of recent attempts to define AI in detailed, rigorous fashion (and we suspect that such attempts will be of interest to philosophers of science, and those interested in this sub-area of philosophy).\n",
        "\"\"\""
      ],
      "execution_count": null,
      "outputs": []
    },
    {
      "cell_type": "code",
      "metadata": {
        "id": "MlcVtQkrYiet"
      },
      "source": [
        "import spacy\n",
        "from spacy.lang.en.stop_words import STOP_WORDS\n",
        "from string import punctuation"
      ],
      "execution_count": null,
      "outputs": []
    },
    {
      "cell_type": "code",
      "metadata": {
        "id": "Zkaak5bBYkwI"
      },
      "source": [
        "stopwords = list(STOP_WORDS)"
      ],
      "execution_count": null,
      "outputs": []
    },
    {
      "cell_type": "code",
      "metadata": {
        "id": "k2KmzCsLYljd"
      },
      "source": [
        "nlp = spacy.load('en_core_web_sm')"
      ],
      "execution_count": null,
      "outputs": []
    },
    {
      "cell_type": "code",
      "metadata": {
        "id": "pFFtLdM3YmAN"
      },
      "source": [
        "doc = nlp(text)"
      ],
      "execution_count": null,
      "outputs": []
    },
    {
      "cell_type": "code",
      "metadata": {
        "colab": {
          "base_uri": "https://localhost:8080/"
        },
        "id": "1GxpTR8XYm2r",
        "outputId": "073c2a17-be5f-45cf-967d-f17ccf94ebc9"
      },
      "source": [
        "tokens = [token.text for token in doc]\n",
        "print(tokens)"
      ],
      "execution_count": null,
      "outputs": [
        {
          "output_type": "stream",
          "text": [
            "['\\n', 'So', 'far', 'we', 'have', 'been', 'proceeding', 'as', 'if', 'we', 'have', 'a', 'firm', 'and', 'precise', 'grasp', 'of', 'the', 'nature', 'of', 'AI', '.', 'But', 'what', 'exactly', 'is', 'AI', '?', 'Philosophers', 'arguably', 'know', 'better', 'than', 'anyone', 'that', 'precisely', 'defining', 'a', 'particular', 'discipline', 'to', 'the', 'satisfaction', 'of', 'all', 'relevant', 'parties', '(', 'including', 'those', 'working', 'in', 'the', 'discipline', 'itself', ')', 'can', 'be', 'acutely', 'challenging', '.', 'Philosophers', 'of', 'science', 'certainly', 'have', 'proposed', 'credible', 'accounts', 'of', 'what', 'constitutes', 'at', 'least', 'the', 'general', 'shape', 'and', 'texture', 'of', 'a', 'given', 'field', 'of', 'science', 'and/or', 'engineering', ',', 'but', 'what', 'exactly', 'is', 'the', 'agreed', '-', 'upon', 'definition', 'of', 'physics', '?', 'What', 'about', 'biology', '?', 'What', ',', 'for', 'that', 'matter', ',', 'is', 'philosophy', ',', 'exactly', '?', 'These', 'are', 'remarkably', 'difficult', ',', 'maybe', 'even', 'eternally', 'unanswerable', ',', 'questions', ',', 'especially', 'if', 'the', 'target', 'is', 'a', 'consensus', 'definition', '.', 'Perhaps', 'the', 'most', 'prudent', 'course', 'we', 'can', 'manage', 'here', 'under', 'obvious', 'space', 'constraints', 'is', 'to', 'present', 'in', 'encapsulated', 'form', 'some', 'proposed', 'definitions', 'of', 'AI', '.', 'We', 'do', 'include', 'a', 'glimpse', 'of', 'recent', 'attempts', 'to', 'define', 'AI', 'in', 'detailed', ',', 'rigorous', 'fashion', '(', 'and', 'we', 'suspect', 'that', 'such', 'attempts', 'will', 'be', 'of', 'interest', 'to', 'philosophers', 'of', 'science', ',', 'and', 'those', 'interested', 'in', 'this', 'sub', '-', 'area', 'of', 'philosophy', ')', '.', '\\n']\n"
          ],
          "name": "stdout"
        }
      ]
    },
    {
      "cell_type": "code",
      "metadata": {
        "colab": {
          "base_uri": "https://localhost:8080/",
          "height": 37
        },
        "id": "RMlBkzqoZk9N",
        "outputId": "c5cf6748-f205-4047-a614-cdbc3d086671"
      },
      "source": [
        "punctuation = punctuation + '\\n'\n",
        "punctuation"
      ],
      "execution_count": null,
      "outputs": [
        {
          "output_type": "execute_result",
          "data": {
            "application/vnd.google.colaboratory.intrinsic+json": {
              "type": "string"
            },
            "text/plain": [
              "'!\"#$%&\\'()*+,-./:;<=>?@[\\\\]^_`{|}~\\n'"
            ]
          },
          "metadata": {
            "tags": []
          },
          "execution_count": 69
        }
      ]
    },
    {
      "cell_type": "code",
      "metadata": {
        "colab": {
          "base_uri": "https://localhost:8080/"
        },
        "id": "K86kYCQLZpeW",
        "outputId": "5e25d0b4-9ea7-4387-a123-caf701db70f4"
      },
      "source": [
        "word_frequencies = {}\n",
        "for word in doc:\n",
        "    if word.text.lower() not in stopwords:\n",
        "        if word.text.lower() not in punctuation:\n",
        "            if word.text not in word_frequencies.keys():\n",
        "                word_frequencies[word.text] = 1\n",
        "            else:\n",
        "                word_frequencies[word.text] += 1\n",
        "\n",
        "print(word_frequencies)"
      ],
      "execution_count": null,
      "outputs": [
        {
          "output_type": "stream",
          "text": [
            "{'far': 1, 'proceeding': 1, 'firm': 1, 'precise': 1, 'grasp': 1, 'nature': 1, 'AI': 4, 'exactly': 3, 'Philosophers': 2, 'arguably': 1, 'know': 1, 'better': 1, 'precisely': 1, 'defining': 1, 'particular': 1, 'discipline': 2, 'satisfaction': 1, 'relevant': 1, 'parties': 1, 'including': 1, 'working': 1, 'acutely': 1, 'challenging': 1, 'science': 3, 'certainly': 1, 'proposed': 2, 'credible': 1, 'accounts': 1, 'constitutes': 1, 'general': 1, 'shape': 1, 'texture': 1, 'given': 1, 'field': 1, 'and/or': 1, 'engineering': 1, 'agreed': 1, 'definition': 2, 'physics': 1, 'biology': 1, 'matter': 1, 'philosophy': 2, 'remarkably': 1, 'difficult': 1, 'maybe': 1, 'eternally': 1, 'unanswerable': 1, 'questions': 1, 'especially': 1, 'target': 1, 'consensus': 1, 'prudent': 1, 'course': 1, 'manage': 1, 'obvious': 1, 'space': 1, 'constraints': 1, 'present': 1, 'encapsulated': 1, 'form': 1, 'definitions': 1, 'include': 1, 'glimpse': 1, 'recent': 1, 'attempts': 2, 'define': 1, 'detailed': 1, 'rigorous': 1, 'fashion': 1, 'suspect': 1, 'interest': 1, 'philosophers': 1, 'interested': 1, 'sub': 1, 'area': 1}\n"
          ],
          "name": "stdout"
        }
      ]
    },
    {
      "cell_type": "code",
      "metadata": {
        "colab": {
          "base_uri": "https://localhost:8080/"
        },
        "id": "Q7efLzLDaAT2",
        "outputId": "8fb21892-567a-418b-ee64-8f38a4b9bf4f"
      },
      "source": [
        "max_frequency = max(word_frequencies.values())\n",
        "max_frequency"
      ],
      "execution_count": null,
      "outputs": [
        {
          "output_type": "execute_result",
          "data": {
            "text/plain": [
              "4"
            ]
          },
          "metadata": {
            "tags": []
          },
          "execution_count": 72
        }
      ]
    },
    {
      "cell_type": "code",
      "metadata": {
        "colab": {
          "base_uri": "https://localhost:8080/"
        },
        "id": "kWMcYKtiaa-5",
        "outputId": "77b172a6-2787-4eb3-8cb2-4f5ad655212c"
      },
      "source": [
        "for word in word_frequencies.keys():\n",
        "    word_frequencies[word] = word_frequencies[word]/max_frequency\n",
        "\n",
        "print(word_frequencies)\n"
      ],
      "execution_count": null,
      "outputs": [
        {
          "output_type": "stream",
          "text": [
            "{'far': 0.25, 'proceeding': 0.25, 'firm': 0.25, 'precise': 0.25, 'grasp': 0.25, 'nature': 0.25, 'AI': 1.0, 'exactly': 0.75, 'Philosophers': 0.5, 'arguably': 0.25, 'know': 0.25, 'better': 0.25, 'precisely': 0.25, 'defining': 0.25, 'particular': 0.25, 'discipline': 0.5, 'satisfaction': 0.25, 'relevant': 0.25, 'parties': 0.25, 'including': 0.25, 'working': 0.25, 'acutely': 0.25, 'challenging': 0.25, 'science': 0.75, 'certainly': 0.25, 'proposed': 0.5, 'credible': 0.25, 'accounts': 0.25, 'constitutes': 0.25, 'general': 0.25, 'shape': 0.25, 'texture': 0.25, 'given': 0.25, 'field': 0.25, 'and/or': 0.25, 'engineering': 0.25, 'agreed': 0.25, 'definition': 0.5, 'physics': 0.25, 'biology': 0.25, 'matter': 0.25, 'philosophy': 0.5, 'remarkably': 0.25, 'difficult': 0.25, 'maybe': 0.25, 'eternally': 0.25, 'unanswerable': 0.25, 'questions': 0.25, 'especially': 0.25, 'target': 0.25, 'consensus': 0.25, 'prudent': 0.25, 'course': 0.25, 'manage': 0.25, 'obvious': 0.25, 'space': 0.25, 'constraints': 0.25, 'present': 0.25, 'encapsulated': 0.25, 'form': 0.25, 'definitions': 0.25, 'include': 0.25, 'glimpse': 0.25, 'recent': 0.25, 'attempts': 0.5, 'define': 0.25, 'detailed': 0.25, 'rigorous': 0.25, 'fashion': 0.25, 'suspect': 0.25, 'interest': 0.25, 'philosophers': 0.25, 'interested': 0.25, 'sub': 0.25, 'area': 0.25}\n"
          ],
          "name": "stdout"
        }
      ]
    },
    {
      "cell_type": "code",
      "metadata": {
        "colab": {
          "base_uri": "https://localhost:8080/"
        },
        "id": "otCOIjrCa33B",
        "outputId": "46acc8dc-8fab-4003-d30d-50fe0b4a973a"
      },
      "source": [
        "sentence_tokens = [sent for sent in doc.sents]\n",
        "print(sentence_tokens)"
      ],
      "execution_count": null,
      "outputs": [
        {
          "output_type": "stream",
          "text": [
            "[\n",
            "So far we have been proceeding as if we have a firm and precise grasp of the nature of AI., But what exactly is AI?, Philosophers arguably know better than anyone that precisely defining a particular discipline to the satisfaction of all relevant parties (including those working in the discipline itself) can be acutely challenging., Philosophers of science certainly have proposed credible accounts of what constitutes at least the general shape and texture of a given field of science and/or engineering, but what exactly is the agreed-upon definition of physics?, What about biology?, What, for that matter, is philosophy, exactly?, These are remarkably difficult, maybe even eternally unanswerable, questions, especially if the target is a consensus definition., Perhaps the most prudent course we can manage here under obvious space constraints is to present in encapsulated form some proposed definitions of AI., We do include a glimpse of recent attempts to define AI in detailed, rigorous fashion (and we suspect that such attempts will be of interest to philosophers of science, and those interested in this sub-area of philosophy).\n",
            "]\n"
          ],
          "name": "stdout"
        }
      ]
    },
    {
      "cell_type": "code",
      "metadata": {
        "colab": {
          "base_uri": "https://localhost:8080/"
        },
        "id": "U7-IxXjoa-vH",
        "outputId": "07df9a74-c2f4-4a43-a18c-db681065dbe3"
      },
      "source": [
        "sentence_scores = {}\n",
        "for sent in sentence_tokens:\n",
        "    for word in sent:\n",
        "        if word.text.lower() in word_frequencies.keys():\n",
        "            if sent not in sentence_scores.keys():\n",
        "                sentence_scores[sent] = word_frequencies[word.text.lower()]\n",
        "            else:\n",
        "                sentence_scores[sent] += word_frequencies[word.text.lower()]\n",
        "\n",
        "sentence_scores"
      ],
      "execution_count": null,
      "outputs": [
        {
          "output_type": "execute_result",
          "data": {
            "text/plain": [
              "{\n",
              " So far we have been proceeding as if we have a firm and precise grasp of the nature of AI.: 1.5,\n",
              " But what exactly is AI?: 0.75,\n",
              " Philosophers arguably know better than anyone that precisely defining a particular discipline to the satisfaction of all relevant parties (including those working in the discipline itself) can be acutely challenging.: 4.5,\n",
              " Philosophers of science certainly have proposed credible accounts of what constitutes at least the general shape and texture of a given field of science and/or engineering, but what exactly is the agreed-upon definition of physics?: 6.75,\n",
              " What about biology?: 0.25,\n",
              " What, for that matter, is philosophy, exactly?: 1.5,\n",
              " These are remarkably difficult, maybe even eternally unanswerable, questions, especially if the target is a consensus definition.: 2.75,\n",
              " Perhaps the most prudent course we can manage here under obvious space constraints is to present in encapsulated form some proposed definitions of AI.: 3.0,\n",
              " We do include a glimpse of recent attempts to define AI in detailed, rigorous fashion (and we suspect that such attempts will be of interest to philosophers of science, and those interested in this sub-area of philosophy).: 5.5}"
            ]
          },
          "metadata": {
            "tags": []
          },
          "execution_count": 75
        }
      ]
    },
    {
      "cell_type": "code",
      "metadata": {
        "id": "E-1XtAEgbFgB"
      },
      "source": [
        "from heapq import nlargest"
      ],
      "execution_count": null,
      "outputs": []
    },
    {
      "cell_type": "code",
      "metadata": {
        "colab": {
          "base_uri": "https://localhost:8080/"
        },
        "id": "S8lLKthzbIj8",
        "outputId": "972657fe-8e8a-4a06-86f5-6ce4a601ef6d"
      },
      "source": [
        "select_length = int(len(sentence_tokens)*0.3)\n",
        "select_length"
      ],
      "execution_count": null,
      "outputs": [
        {
          "output_type": "execute_result",
          "data": {
            "text/plain": [
              "2"
            ]
          },
          "metadata": {
            "tags": []
          },
          "execution_count": 76
        }
      ]
    },
    {
      "cell_type": "code",
      "metadata": {
        "colab": {
          "base_uri": "https://localhost:8080/"
        },
        "id": "2JSVbTdCbMBD",
        "outputId": "c5048bd1-9abd-4662-85af-9d69c9cbc097"
      },
      "source": [
        "summary = nlargest(select_length, sentence_scores, key = sentence_scores.get)\n",
        "summary"
      ],
      "execution_count": null,
      "outputs": [
        {
          "output_type": "execute_result",
          "data": {
            "text/plain": [
              "[Philosophers of science certainly have proposed credible accounts of what constitutes at least the general shape and texture of a given field of science and/or engineering, but what exactly is the agreed-upon definition of physics?,\n",
              " We do include a glimpse of recent attempts to define AI in detailed, rigorous fashion (and we suspect that such attempts will be of interest to philosophers of science, and those interested in this sub-area of philosophy).]"
            ]
          },
          "metadata": {
            "tags": []
          },
          "execution_count": 77
        }
      ]
    },
    {
      "cell_type": "code",
      "metadata": {
        "id": "XIWI8vcrbO94"
      },
      "source": [
        "final_summary = [word.text for word in summary]\n",
        "summary = ' '.join(final_summary)"
      ],
      "execution_count": null,
      "outputs": []
    },
    {
      "cell_type": "code",
      "metadata": {
        "colab": {
          "base_uri": "https://localhost:8080/"
        },
        "id": "UaGq47cGbVm_",
        "outputId": "38968b5f-be39-40e2-9358-d6a9bfd3d5d0"
      },
      "source": [
        "print(text)"
      ],
      "execution_count": null,
      "outputs": [
        {
          "output_type": "stream",
          "text": [
            "\n",
            "So far we have been proceeding as if we have a firm and precise grasp of the nature of AI. But what exactly is AI? Philosophers arguably know better than anyone that precisely defining a particular discipline to the satisfaction of all relevant parties (including those working in the discipline itself) can be acutely challenging. Philosophers of science certainly have proposed credible accounts of what constitutes at least the general shape and texture of a given field of science and/or engineering, but what exactly is the agreed-upon definition of physics? What about biology? What, for that matter, is philosophy, exactly? These are remarkably difficult, maybe even eternally unanswerable, questions, especially if the target is a consensus definition. Perhaps the most prudent course we can manage here under obvious space constraints is to present in encapsulated form some proposed definitions of AI. We do include a glimpse of recent attempts to define AI in detailed, rigorous fashion (and we suspect that such attempts will be of interest to philosophers of science, and those interested in this sub-area of philosophy).\n",
            "\n"
          ],
          "name": "stdout"
        }
      ]
    },
    {
      "cell_type": "code",
      "metadata": {
        "colab": {
          "base_uri": "https://localhost:8080/"
        },
        "id": "pLfBuQEZbZVs",
        "outputId": "a3acb1aa-be50-42de-cd93-e92e1f943faa"
      },
      "source": [
        "print(summary)"
      ],
      "execution_count": null,
      "outputs": [
        {
          "output_type": "stream",
          "text": [
            "Philosophers of science certainly have proposed credible accounts of what constitutes at least the general shape and texture of a given field of science and/or engineering, but what exactly is the agreed-upon definition of physics? We do include a glimpse of recent attempts to define AI in detailed, rigorous fashion (and we suspect that such attempts will be of interest to philosophers of science, and those interested in this sub-area of philosophy).\n",
            "\n"
          ],
          "name": "stdout"
        }
      ]
    },
    {
      "cell_type": "code",
      "metadata": {
        "colab": {
          "base_uri": "https://localhost:8080/"
        },
        "id": "b4EEm-VsbjuD",
        "outputId": "f8d7aecb-ebd9-4cc0-a40b-10e23e941726"
      },
      "source": [
        "len(text)"
      ],
      "execution_count": null,
      "outputs": [
        {
          "output_type": "execute_result",
          "data": {
            "text/plain": [
              "1136"
            ]
          },
          "metadata": {
            "tags": []
          },
          "execution_count": 81
        }
      ]
    },
    {
      "cell_type": "code",
      "metadata": {
        "colab": {
          "base_uri": "https://localhost:8080/"
        },
        "id": "WsQ3cNoqbori",
        "outputId": "dde42719-d126-40bd-fb18-f0da65a794ce"
      },
      "source": [
        "len(summary)"
      ],
      "execution_count": null,
      "outputs": [
        {
          "output_type": "execute_result",
          "data": {
            "text/plain": [
              "455"
            ]
          },
          "metadata": {
            "tags": []
          },
          "execution_count": 82
        }
      ]
    }
  ]
}